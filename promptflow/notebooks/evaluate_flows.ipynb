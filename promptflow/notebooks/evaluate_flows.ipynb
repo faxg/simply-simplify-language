{
 "cells": [
  {
   "cell_type": "markdown",
   "metadata": {},
   "source": [
    "# Evaluate Prompt Flows for \"Simplify Language\""
   ]
  },
  {
   "cell_type": "markdown",
   "metadata": {},
   "source": [
    "This notebooks uses the Promtflow SDK to run different variants and configurations of the \"simplify\" flow, and evaluate the results. You will be able to assess the relative quality and cost of different LLM models, prompt templates, parameter configurations etc. This enables an interactive, iterative cycle to evaluate and improve your flows."
   ]
  },
  {
   "cell_type": "code",
   "execution_count": 11,
   "metadata": {},
   "outputs": [],
   "source": [
    "%%capture\n",
    "%pip install -r ../eval-simplify/requirements.txt\n",
    "!python -m spacy download de_core_news_sm"
   ]
  },
  {
   "cell_type": "code",
   "execution_count": 2,
   "metadata": {},
   "outputs": [],
   "source": [
    "%reload_ext autoreload\n",
    "%autoreload 2\n",
    "\n",
    "import json, os\n",
    "from promptflow.client import PFClient\n",
    "from promptflow.entities import AzureOpenAIConnection, OpenAIConnection\n",
    "from IPython.display import JSON, Markdown\n",
    "import logging\n",
    "import pandas as pd\n",
    "\n",
    "\n",
    "# Helper function to prepare configs for different flow configurations\n",
    "from helpers import create_flow_config, execute_run, result_markdown,compare_simplified, execute_eval_run\n",
    "\n",
    "\n",
    "#Supress default INFO logging\n",
    "os.environ[\"PF_LOGGING_LEVEL\"] = \"ERROR\"\n",
    "\n",
    "# The required connection name (see flow.dag.yaml)\n",
    "# Currently, must be OpenAI or Azure OpenAI connection.\n",
    "conn_name = \"openai_connection\"\n",
    "\n",
    "# Paths to the the flow and eval flow directory\n",
    "flow_path=\"../flow-simplify-es\"\n",
    "eval_flow_path=\"../eval-simplify\"\n",
    "\n",
    "# Path to the test data\n",
    "data_path=\"../test_data.jsonl\"\n",
    "\n",
    "\n",
    "\n"
   ]
  },
  {
   "cell_type": "code",
   "execution_count": 3,
   "metadata": {},
   "outputs": [
    {
     "name": "stdout",
     "output_type": "stream",
     "text": [
      "Connection 'openai_connection' is ready for use\n"
     ]
    }
   ],
   "source": [
    "# Create the Promptflow client\n",
    "pf = PFClient()\n",
    "\n",
    "# Initialize the connection\n",
    "conn = None\n",
    "\n",
    "\n",
    "# Check if the connection already exists (e.g. already created, either here or via CLI)\n",
    "for c in pf.connections.list():\n",
    "    if (c.name == conn_name) and (c.type == \"OpenAI\"):\n",
    "        conn = pf.connections.get(name=conn_name)\n",
    "\n",
    "\n",
    "if (conn is None):\n",
    "    print(f\"Connection '{conn_name}' not found, trying to create...\")\n",
    "    try:\n",
    "        # use this for Azure OpenAI\n",
    "        # Follow https://learn.microsoft.com/en-us/azure/ai-services/openai/how-to/create-resource?pivots=web-portal to create an Azure Open AI resource.\n",
    "        #connection = AzureOpenAIConnection(\n",
    "        #    name=conn_name,\n",
    "        #    api_key=\"<user-input>\",\n",
    "        #    api_base=\"<test_base>\",\n",
    "        #    api_type=\"azure\",\n",
    "        #    api_version=\"<test_version>\",\n",
    "        #)\n",
    "        \n",
    "        # use this if you have an existing OpenAI account\n",
    "        connection = OpenAIConnection(\n",
    "            name=conn_name,\n",
    "            api_key=os.environ.get(\"OPENAI_API_KEY\") or \"[ADD YOUR OPENAI API KEY HERE]\",\n",
    "        )\n",
    "        conn = pf.connections.create_or_update(connection)\n",
    "    except Exception as e:\n",
    "        print(f\"Failed to create connection: {e}\")\n",
    "\n",
    "if (conn):\n",
    "    print (f\"Connection '{conn_name}' is ready for use\")\n",
    "else: \n",
    "    print (f\"Could ot find or create required connection, try setting the OPENAI_API_KEY environment variable.\")"
   ]
  },
  {
   "cell_type": "markdown",
   "metadata": {},
   "source": [
    "### Test the flow"
   ]
  },
  {
   "cell_type": "code",
   "execution_count": 4,
   "metadata": {},
   "outputs": [
    {
     "name": "stdout",
     "output_type": "stream",
     "text": [
      "Starting prompt flow service...\n",
      "Start prompt flow service on 127.0.0.1:23333, version: 1.13.0.\n",
      "You can stop the prompt flow service with the following command:'\u001b[1mpf service stop\u001b[0m'.\n",
      "\n",
      "2024-07-07 21:41:46 +0000     871 execution.flow     INFO     Start executing nodes in thread pool mode.\n",
      "2024-07-07 21:41:46 +0000     871 execution.flow     INFO     Start to run 4 nodes with concurrency level 16.\n",
      "2024-07-07 21:41:46 +0000     871 execution.flow     INFO     Executing node rules. node run id: ea7037d0-23fc-4e27-9012-da1c8fc1dc89_rules_0\n",
      "2024-07-07 21:41:46 +0000     871 execution.flow     INFO     Executing node completeness. node run id: ea7037d0-23fc-4e27-9012-da1c8fc1dc89_completeness_0\n",
      "2024-07-07 21:41:46 +0000     871 execution.flow     INFO     Node rules completes.\n",
      "2024-07-07 21:41:46 +0000     871 execution.flow     INFO     Node completeness completes.\n",
      "2024-07-07 21:41:46 +0000     871 execution.flow     INFO     Executing node create_prompt. node run id: ea7037d0-23fc-4e27-9012-da1c8fc1dc89_create_prompt_0\n",
      "2024-07-07 21:41:46 +0000     871 execution.flow     INFO     Node create_prompt completes.\n",
      "2024-07-07 21:41:46 +0000     871 execution.flow     INFO     Executing node simplify_es. node run id: ea7037d0-23fc-4e27-9012-da1c8fc1dc89_simplify_es_0\n",
      "You can view the trace detail from the following URL:\n",
      "http://127.0.0.1:23333/v1.0/ui/traces/?#collection=flow-simplify-es&uiTraceId=0xdbd389eaf22d8c686e0ff3495164df4e\n",
      "2024-07-07 21:41:49 +0000     871 execution.flow     INFO     Node simplify_es completes.\n"
     ]
    },
    {
     "data": {
      "application/json": {
       "prompt": "\nsystem:\n--------\nBitte schreibe den folgenden schwer verständlichen Text vollständig in Einfache Sprache, Sprachniveau B1 bis A2, um. \n\nBeachte dabei folgende Regeln für Einfache Sprache (B1 bis A2):\n\n- Achte immer sehr genau darauf, dass ALLE Informationen aus dem schwer verständlichen Text in dem Text in Leichter Sprache enthalten sind. Kürze niemals Informationen. Wo sinnvoll kannst du zusätzliche Beispiele hinzufügen, um den Text verständlicher zu machen und relevante Inhalte zu konkretisieren.\n- Schreibe kurze Sätze mit höchstens 12 Wörtern.\n- Beschränke dich auf eine Aussage, einen Gedanken pro Satz.\n- Verwende aktive Sprache anstelle von Passiv. \n- Formuliere grundsätzlich positiv und bejahend.\n- Strukturiere den Text übersichtlich mit kurzen Absätzen.\n- Verwende einfache, kurze, häufig gebräuchliche Wörter. \n- Wenn zwei Wörter dasselbe bedeuten, verwende das kürzere und einfachere Wort.\n- Vermeide Füllwörter und unnötige Wiederholungen.\n- Erkläre Fachbegriffe und Fremdwörter.\n- Schreibe immer einfach, direkt und klar. Vermeide komplizierte Konstruktionen und veraltete Begriffe. Vermeide «Behördendeutsch». \n- Benenne Gleiches immer gleich. Verwende für denselben Begriff, Gegenstand oder Sachverhalt immer dieselbe Bezeichnung. Wiederholungen von Begriffen sind in Texten in Einfacher Sprache normal.\n- Vermeide Substantivierungen. Verwende stattdessen Verben und Adjektive.\n- Vermeide Adjektive und Adverbien, wenn sie nicht unbedingt notwendig sind.\n- Wenn du vier oder mehr Wörter zusammensetzt, setzt du Bindestriche. Beispiel: «Motorfahrzeug-Ausweispflicht».\n- Achte auf die sprachliche Gleichbehandlung von Mann und Frau. Verwende immer beide Geschlechter oder schreibe geschlechtsneutral.\n- Vermeide Abkürzungen grundsätzlich. Schreibe stattdessen die Wörter aus. Z.B. «10 Millionen» statt «10 Mio.», «200 Kilometer pro Stunde» statt «200 km/h», «zum Beispiel» statt «z.B.», «30 Prozent» statt «30 %», «2 Meter» statt «2 m», «das heisst» statt «d.h.». \n- Vermeide das stumme «e» am Wortende, wenn es nicht unbedingt notwendig ist. Zum Beispiel: «des Fahrzeugs» statt «des Fahrzeuges».\n- Verwende immer französische Anführungszeichen (« ») anstelle von deutschen Anführungszeichen („ “).\n- Gliedere Telefonnummern mit vier Leerzeichen. Z.B. 044 123 45 67. Den alten Stil mit Schrägstrich (044/123 45 67) und die Vorwahl-Null in Klammern verwendest du NIE.\n- Formatiere Datumsangaben immer so: 1. Januar 2022, 15. Februar 2022.\n- Jahreszahlen schreibst du immer vierstellig aus: 2022, 2025-2030.\n- Formatiere Zeitangaben immer «Stunden Punkt Minuten Uhr». Verwende keinen Doppelpunkt, um Stunden von Minuten zu trennen. Ergänze immer .00 bei vollen Stunden. Beispiele: 9.25 Uhr (NICHT 9:30), 10.30 Uhr (NICHT 10:00), 14.00 Uhr (NICHT 14 Uhr), 15.45 Uhr, 18.00 Uhr, 20.15 Uhr, 22.30 Uhr.\n- Zahlen bis 12 schreibst du aus. Ab 13 verwendest du Ziffern.\n- Fristen, Geldbeträge und physikalische Grössen schreibst du immer in Ziffern.\n- Zahlen, die zusammengehören, schreibst du immer in Ziffern. Beispiel: 5-10, 20 oder 30.\n- Grosse Zahlen ab 5 Stellen gliederst du in Dreiergruppen mit Leerzeichen. Beispiel: 1 000 000.\n- Achtung: Identifikationszahlen übernimmst du 1:1. Beispiel: Stammnummer 123.456.789, AHV-Nummer 756.1234.5678.90, Konto 01-100101-9.\n- Verwende das Komma, dass das deutsche Dezimalzeichen ist. Überflüssige Nullen nach dem Komma schreibst du nicht. Beispiel: 5,5 Millionen, 3,75 Prozent, 1,5 Kilometer, 2,25 Stunden.\n- Vor Franken-Rappen-Beträgen schreibst du immer «CHF». Nur nach ganzen Franken-Beträgen darfst du «Franken» schreiben. Bei Franken- Rappen-Beträgen setzt du einen Punkt als Dezimalzeichen. Anstatt des Null-Rappen-Strichs verwendest du «.00» oder lässt die Dezimalstellen weg. Z.B. 20 Franken, CHF 20, CHF 2.00, CHF 12.50, aber CHF 45,2 Millionen, EUR 14,90.\n- Die Anrede mit «Sie» schreibst du immer gross. Beispiel: «Sie haben».\n\n--------\nuser:\nDies ist ein einfacher Text, um die Funktionalität zu testen. Er ist nicht besonders lang, und nicht in 'Behördendeutsch', aber sollte ausreichen.",
       "simplified_text": "Dieser kurze Text dient dazu, die Überprüfung der Funktionen zu testen. Er ist einfach und nicht zu lang."
      },
      "text/plain": [
       "<IPython.core.display.JSON object>"
      ]
     },
     "execution_count": 4,
     "metadata": {
      "application/json": {
       "expanded": true,
       "root": "root"
      }
     },
     "output_type": "execute_result"
    }
   ],
   "source": [
    "output = pf.flows.test(\n",
    "    flow_path,\n",
    "    inputs={\n",
    "        \"original_text\": \"Dies ist ein einfacher Text, um die Funktionalität zu testen. Er ist nicht besonders lang, und nicht in 'Behördendeutsch', aber sollte ausreichen.\",\n",
    "    },\n",
    "    stream=False,\n",
    ")\n",
    "\n",
    "JSON(output, expanded=True)"
   ]
  },
  {
   "cell_type": "markdown",
   "metadata": {},
   "source": [
    "### Run different variants of the '__simplify_es__' flow\n",
    "The following cells create some different variants of the \"simplify_es\" flow, following a simple naming convention. \n",
    "Existing runs with the same name will be overwritten. See output for links to trace information.\n",
    "\n",
    "We use the `prompflow.client` SDK to create runs, see `helpers.py` for details."
   ]
  },
  {
   "cell_type": "markdown",
   "metadata": {},
   "source": [
    "#### Step 1: Create the flow configurations"
   ]
  },
  {
   "cell_type": "code",
   "execution_count": 5,
   "metadata": {},
   "outputs": [],
   "source": [
    "gpt4o_config = create_flow_config(model=\"gpt-4o\")\n",
    "gpt35turbo_config = create_flow_config(model=\"gpt-3.5-turbo\")\n",
    "gpt35turbo_config_2 = create_flow_config(model=\"gpt-3.5-turbo\", variant=\"${rules.short_instructions}\")\n",
    "\n"
   ]
  },
  {
   "cell_type": "markdown",
   "metadata": {},
   "source": [
    "#### Step 2: Run the flows \n",
    "Run the flows using the configs from above (this will take a few moments). \n",
    "See output below to open trace information."
   ]
  },
  {
   "cell_type": "code",
   "execution_count": 6,
   "metadata": {},
   "outputs": [
    {
     "name": "stderr",
     "output_type": "stream",
     "text": [
      "[2024-07-07 21:41:50 +0000][promptflow._sdk._orchestrator.run_submitter][INFO] - Submitting run run_simplify_es_gpt-4o_default, log path: /root/.promptflow/.runs/run_simplify_es_gpt-4o_default/logs.txt\n"
     ]
    },
    {
     "name": "stdout",
     "output_type": "stream",
     "text": [
      "Prompt flow service has started...\n",
      "You can view the traces in local from http://127.0.0.1:23333/v1.0/ui/traces/?#run=run_simplify_es_gpt-4o_default\n",
      "You can view the trace detail from the following URL:\n",
      "http://127.0.0.1:23333/v1.0/ui/traces/?#collection=flow-simplify-es&uiTraceId=0xc2694c557854302288aea6fd9622f274\n",
      "You can view the trace detail from the following URL:\n",
      "http://127.0.0.1:23333/v1.0/ui/traces/?#collection=flow-simplify-es&uiTraceId=0x6b2bb6cf4160b0af9aabfb6f88244459\n"
     ]
    },
    {
     "name": "stderr",
     "output_type": "stream",
     "text": [
      "[2024-07-07 21:41:57 +0000][promptflow._sdk._orchestrator.run_submitter][INFO] - Submitting run run_simplify_es_gpt-3.5-turbo_default, log path: /root/.promptflow/.runs/run_simplify_es_gpt-3.5-turbo_default/logs.txt\n"
     ]
    },
    {
     "name": "stdout",
     "output_type": "stream",
     "text": [
      "Prompt flow service has started...\n",
      "You can view the traces in local from http://127.0.0.1:23333/v1.0/ui/traces/?#run=run_simplify_es_gpt-3.5-turbo_default\n",
      "You can view the trace detail from the following URL:\n",
      "http://127.0.0.1:23333/v1.0/ui/traces/?#collection=flow-simplify-es&uiTraceId=0x1878ecc3281a99acad6cabba6fa4136e\n",
      "You can view the trace detail from the following URL:\n",
      "http://127.0.0.1:23333/v1.0/ui/traces/?#collection=flow-simplify-es&uiTraceId=0xad9aca8607987224ccc854122b12180c\n"
     ]
    },
    {
     "name": "stderr",
     "output_type": "stream",
     "text": [
      "[2024-07-07 21:42:05 +0000][promptflow._sdk._orchestrator.run_submitter][INFO] - Submitting run run_simplify_es_gpt-3.5-turbo_rules.short_instructions, log path: /root/.promptflow/.runs/run_simplify_es_gpt-3.5-turbo_rules.short_instructions/logs.txt\n"
     ]
    },
    {
     "name": "stdout",
     "output_type": "stream",
     "text": [
      "Prompt flow service has started...\n",
      "You can view the traces in local from http://127.0.0.1:23333/v1.0/ui/traces/?#run=run_simplify_es_gpt-3.5-turbo_rules.short_instructions\n",
      "You can view the trace detail from the following URL:\n",
      "http://127.0.0.1:23333/v1.0/ui/traces/?#collection=flow-simplify-es&uiTraceId=0x6d301356c4ff686ff0decd29e1718168\n",
      "You can view the trace detail from the following URL:\n",
      "http://127.0.0.1:23333/v1.0/ui/traces/?#collection=flow-simplify-es&uiTraceId=0xd96a6a9aef076eb0cf6ee1dd8925265b\n"
     ]
    }
   ],
   "source": [
    "result_gpt4o = execute_run (pf, gpt4o_config)\n",
    "result_gpt35turbo = execute_run (pf, gpt35turbo_config)\n",
    "result_gpt35turbo_2 = execute_run (pf, gpt35turbo_config_2)\n"
   ]
  },
  {
   "cell_type": "code",
   "execution_count": 7,
   "metadata": {},
   "outputs": [
    {
     "data": {
      "text/markdown": [
       "##### Results for __\"run_simplify_es_gpt-4o_default\"__\n",
       "- __Model__: gpt-4o\n",
       "- __Variant__: None\n",
       "- __Duration__: 7.172132 seconds\n",
       "- __Prompt tokens__: 2573\n",
       "- __Completion tokens__: 336\n",
       "- __Metrics__: {}"
      ],
      "text/plain": [
       "<IPython.core.display.Markdown object>"
      ]
     },
     "metadata": {},
     "output_type": "display_data"
    },
    {
     "data": {
      "text/markdown": [
       "##### Results for __\"run_simplify_es_gpt-3.5-turbo_default\"__\n",
       "- __Model__: gpt-3.5-turbo\n",
       "- __Variant__: None\n",
       "- __Duration__: 7.113703 seconds\n",
       "- __Prompt tokens__: 3012\n",
       "- __Completion tokens__: 269\n",
       "- __Metrics__: {}"
      ],
      "text/plain": [
       "<IPython.core.display.Markdown object>"
      ]
     },
     "metadata": {},
     "output_type": "display_data"
    },
    {
     "data": {
      "text/markdown": [
       "##### Results for __\"run_simplify_es_gpt-3.5-turbo_rules.short_instructions\"__\n",
       "- __Model__: gpt-3.5-turbo\n",
       "- __Variant__: ${rules.short_instructions}\n",
       "- __Duration__: 6.107623 seconds\n",
       "- __Prompt tokens__: 804\n",
       "- __Completion tokens__: 230\n",
       "- __Metrics__: {}"
      ],
      "text/plain": [
       "<IPython.core.display.Markdown object>"
      ]
     },
     "metadata": {},
     "output_type": "display_data"
    }
   ],
   "source": [
    "display(result_markdown(result_gpt4o))\n",
    "display(result_markdown(result_gpt35turbo))\n",
    "display(result_markdown(result_gpt35turbo_2))"
   ]
  },
  {
   "cell_type": "markdown",
   "metadata": {},
   "source": [
    "#### Step 4: Compare simplified texts\n",
    "\n",
    "A first, visual comparison of the different simplified versions of the text."
   ]
  },
  {
   "cell_type": "code",
   "execution_count": 8,
   "metadata": {},
   "outputs": [
    {
     "data": {
      "text/html": [
       "<div>\n",
       "<style scoped>\n",
       "    .dataframe tbody tr th:only-of-type {\n",
       "        vertical-align: middle;\n",
       "    }\n",
       "\n",
       "    .dataframe tbody tr th {\n",
       "        vertical-align: top;\n",
       "    }\n",
       "\n",
       "    .dataframe thead th {\n",
       "        text-align: right;\n",
       "    }\n",
       "</style>\n",
       "<table border=\"1\" class=\"dataframe\">\n",
       "  <thead>\n",
       "    <tr style=\"text-align: right;\">\n",
       "      <th></th>\n",
       "      <th>inputs.original_text</th>\n",
       "      <th>run_simplify_es_gpt-4o_default</th>\n",
       "      <th>run_simplify_es_gpt-3.5-turbo_default</th>\n",
       "      <th>run_simplify_es_gpt-3.5-turbo_rules.short_instructions</th>\n",
       "    </tr>\n",
       "  </thead>\n",
       "  <tbody>\n",
       "    <tr>\n",
       "      <th>0</th>\n",
       "      <td>Als Vernehmlassungsverfahren wird diejenige Phase innerhalb des Vorverfahrens der Gesetzgebung bezeichnet, in der Vorhaben des Bundes von erheblicher politischer, finanzieller, wirtschaftlicher, ökologischer, sozialer oder kultureller Tragweite auf ihre sachliche Richtigkeit, Vollzugstauglichkeit und Akzeptanz hin geprüft werden.   Die Vorlage wird zu diesem Zweck den Kantonen, den in der Bundesversammlung vertretenen Parteien, den Dachverbänden der Gemeinden, Städte und der Berggebiete, den Dachverbänden der Wirtschaft sowie weiteren, im Einzelfall interessierten Kreisen unterbreitet.</td>\n",
       "      <td>Das Vernehmlassungsverfahren ist eine wichtige Phase bei der Gesetzgebung. In dieser Phase prüft der Bund seine Pläne. Diese Pläne betreffen Politik, Finanzen, Wirtschaft, Umwelt, Soziales oder Kultur. Der Bund will wissen, ob die Pläne richtig sind. Er fragt auch, ob die Pläne durchführbar sind und ob die Menschen sie gut finden. \\n\\nDazu teilt der Bund die Pläne den Kantonen mit. Kantone sind die grossen Regionen der Schweiz. Der Bund teilt die Pläne auch den Parteien im Parlament mit. Auch die Dachverbände der Gemeinden, Städte und Berggebiete erhalten die Pläne. Die Dachverbände der Wirtschaft bekommen die Pläne ebenfalls. Manchmal interessieren sich noch andere Gruppen für die Pläne. Auch diese anderen Gruppen bekommen dann die Pläne.</td>\n",
       "      <td>Im Vernehmlassungsverfahren wird geprüft, ob Bundesvorhaben inhaltlich und praktisch umsetzbar sind. Die Vorlage wird Kantonen, Parteien, Gemeinde- und Wirtschaftsverbänden sowie anderen Interessengruppen zur Stellungnahme vorgelegt.</td>\n",
       "      <td>In der Vernehmlassung werden wichtige Bundesvorhaben von verschiedenen Gruppen überprüft. Dazu gehören Kantone, Parteien, Gemeindeverbände und Wirtschaftsverbände. Man prüft, ob die Vorhaben politisch, finanziell, wirtschaftlich, ökologisch, sozial oder kulturell sinnvoll sind.</td>\n",
       "    </tr>\n",
       "    <tr>\n",
       "      <th>1</th>\n",
       "      <td>Das in Artikel 26 aPartG vorgesehene Ehehindernis der eingetragenen Partnerschaft wurde aufgehoben und in Artikel 96 nZGB eingearbeitet. Es ist zu präzisieren, dass das Ehehindernis nur dann besteht, wenn eine frühere Ehe oder eine mit einer Drittperson begründete eingetragene Partnerschaft noch besteht bzw. nicht für ungültig erklärt oder aufgelöst worden ist. Folglich können zwei Personen, die nach Inkrafttreten der ZGB-Revision, d.h. nach dem 30. Juni 2022, im Ausland miteinander eine eingetragene Partnerschaft begründet haben, einander heiraten, sofern die allgemeinen Voraussetzungen von Artikel 43 f. IPRG und des materiellen Schweizer Eherechts erfüllt sind, ohne vorgängig ihre eingetragene Partnerschaft auflösen zu müssen (Bericht RK-N, Ziff. 5.3.3 und 7.1, Ausführungen zu Art. 96 E-ZGB).</td>\n",
       "      <td>Das Gesetz wurde geändert. Früher gab es ein Eheverbot für Personen in einer eingetragenen Partnerschaft. Dieses Verbot steht jetzt in Artikel 96 im Zivilgesetzbuch.\\n\\nDas Gesetz sagt jetzt: Eine Person darf nur heiraten, wenn keine frühere Ehe oder Partnerschaft besteht. Eine alte Ehe oder Partnerschaft muss entweder aufgehoben oder für ungültig erklärt sein.\\n\\nSeit dem 30. Juni 2022 ist etwas Neues dazugekommen. Personen, die im Ausland eine eingetragene Partnerschaft geschlossen haben, dürfen trotzdem heiraten. Dafür müssen sie die Regeln in den Artikeln 43 und 96 im Zivilgesetzbuch beachten.\\n\\nDie Partner müssen die Schweizer Ehe-Regeln beachten. Die Partnerschaft muss nicht vorher aufgelöst werden.\\n\\nDiese Änderungen stehen in einem Bericht des Nationalrats.</td>\n",
       "      <td>In der Schweiz wurde das Ehehindernis für eingetragene Partnerschaften im Gesetz geändert. Früher war dies in Artikel 26 des Partnerschaftsgesetzes geregelt, nun ist es in Artikel 96 des Zivilgesetzbuches zu finden. Das bedeutet: Man darf heiraten, auch wenn eine frühere Partnerschaft noch besteht oder nicht offiziell aufgelöst wurde. Ab dem 30. Juni 2022 können zwei Personen, die im Ausland eine Partnerschaft eingegangen sind, auch in der Schweiz heiraten. Sie müssen nur die allgemeinen Regeln und das Schweizer Eherecht beachten. Es ist nicht nötig, die eingetragene Partnerschaft vorher aufzulösen (siehe Bericht RK-N, Abschnitt 5.3.3 und 7.1, Erklärungen zu Artikel 96 im Zivilgesetzbuch).</td>\n",
       "      <td>Das Gesetz macht es möglich, dass Personen, die im Ausland eine eingetragene Partnerschaft eingegangen sind, heiraten dürfen, ohne zuerst ihre Partnerschaft auflösen zu müssen. Vorher war es so, dass eine bestehende Partnerschaft eine Ehe verhinderte. Dies gilt jedoch nur, wenn die Partnerschaft nicht für ungültig erklärt oder aufgelöst wurde. Ab dem 30. Juni 2022 ist dies möglich, wenn die gesetzlichen Anforderungen erfüllt sind. (siehe Bericht RK-N, Ziff. 5.3.3 und 7.1, Erklärungen zu Art. 96 E-ZGB).</td>\n",
       "    </tr>\n",
       "  </tbody>\n",
       "</table>\n",
       "</div>"
      ],
      "text/plain": [
       "                                                                                                                                                                                                                                                                                                                                                                                                                                                                                                                                                                                                                                                                                                                                                                                                                    inputs.original_text  \\\n",
       "0                                                                                                                                                                                                                       Als Vernehmlassungsverfahren wird diejenige Phase innerhalb des Vorverfahrens der Gesetzgebung bezeichnet, in der Vorhaben des Bundes von erheblicher politischer, finanzieller, wirtschaftlicher, ökologischer, sozialer oder kultureller Tragweite auf ihre sachliche Richtigkeit, Vollzugstauglichkeit und Akzeptanz hin geprüft werden.   Die Vorlage wird zu diesem Zweck den Kantonen, den in der Bundesversammlung vertretenen Parteien, den Dachverbänden der Gemeinden, Städte und der Berggebiete, den Dachverbänden der Wirtschaft sowie weiteren, im Einzelfall interessierten Kreisen unterbreitet.   \n",
       "1  Das in Artikel 26 aPartG vorgesehene Ehehindernis der eingetragenen Partnerschaft wurde aufgehoben und in Artikel 96 nZGB eingearbeitet. Es ist zu präzisieren, dass das Ehehindernis nur dann besteht, wenn eine frühere Ehe oder eine mit einer Drittperson begründete eingetragene Partnerschaft noch besteht bzw. nicht für ungültig erklärt oder aufgelöst worden ist. Folglich können zwei Personen, die nach Inkrafttreten der ZGB-Revision, d.h. nach dem 30. Juni 2022, im Ausland miteinander eine eingetragene Partnerschaft begründet haben, einander heiraten, sofern die allgemeinen Voraussetzungen von Artikel 43 f. IPRG und des materiellen Schweizer Eherechts erfüllt sind, ohne vorgängig ihre eingetragene Partnerschaft auflösen zu müssen (Bericht RK-N, Ziff. 5.3.3 und 7.1, Ausführungen zu Art. 96 E-ZGB).   \n",
       "\n",
       "                                                                                                                                                                                                                                                                                                                                                                                                                                                                                                                                                                                                                                                                                                                                                                              run_simplify_es_gpt-4o_default  \\\n",
       "0                              Das Vernehmlassungsverfahren ist eine wichtige Phase bei der Gesetzgebung. In dieser Phase prüft der Bund seine Pläne. Diese Pläne betreffen Politik, Finanzen, Wirtschaft, Umwelt, Soziales oder Kultur. Der Bund will wissen, ob die Pläne richtig sind. Er fragt auch, ob die Pläne durchführbar sind und ob die Menschen sie gut finden. \\n\\nDazu teilt der Bund die Pläne den Kantonen mit. Kantone sind die grossen Regionen der Schweiz. Der Bund teilt die Pläne auch den Parteien im Parlament mit. Auch die Dachverbände der Gemeinden, Städte und Berggebiete erhalten die Pläne. Die Dachverbände der Wirtschaft bekommen die Pläne ebenfalls. Manchmal interessieren sich noch andere Gruppen für die Pläne. Auch diese anderen Gruppen bekommen dann die Pläne.   \n",
       "1  Das Gesetz wurde geändert. Früher gab es ein Eheverbot für Personen in einer eingetragenen Partnerschaft. Dieses Verbot steht jetzt in Artikel 96 im Zivilgesetzbuch.\\n\\nDas Gesetz sagt jetzt: Eine Person darf nur heiraten, wenn keine frühere Ehe oder Partnerschaft besteht. Eine alte Ehe oder Partnerschaft muss entweder aufgehoben oder für ungültig erklärt sein.\\n\\nSeit dem 30. Juni 2022 ist etwas Neues dazugekommen. Personen, die im Ausland eine eingetragene Partnerschaft geschlossen haben, dürfen trotzdem heiraten. Dafür müssen sie die Regeln in den Artikeln 43 und 96 im Zivilgesetzbuch beachten.\\n\\nDie Partner müssen die Schweizer Ehe-Regeln beachten. Die Partnerschaft muss nicht vorher aufgelöst werden.\\n\\nDiese Änderungen stehen in einem Bericht des Nationalrats.   \n",
       "\n",
       "                                                                                                                                                                                                                                                                                                                                                                                                                                                                                                                                                                                                                                                                                        run_simplify_es_gpt-3.5-turbo_default  \\\n",
       "0                                                                                                                                                                                                                                                                                                                                                                                                                                                                                   Im Vernehmlassungsverfahren wird geprüft, ob Bundesvorhaben inhaltlich und praktisch umsetzbar sind. Die Vorlage wird Kantonen, Parteien, Gemeinde- und Wirtschaftsverbänden sowie anderen Interessengruppen zur Stellungnahme vorgelegt.   \n",
       "1  In der Schweiz wurde das Ehehindernis für eingetragene Partnerschaften im Gesetz geändert. Früher war dies in Artikel 26 des Partnerschaftsgesetzes geregelt, nun ist es in Artikel 96 des Zivilgesetzbuches zu finden. Das bedeutet: Man darf heiraten, auch wenn eine frühere Partnerschaft noch besteht oder nicht offiziell aufgelöst wurde. Ab dem 30. Juni 2022 können zwei Personen, die im Ausland eine Partnerschaft eingegangen sind, auch in der Schweiz heiraten. Sie müssen nur die allgemeinen Regeln und das Schweizer Eherecht beachten. Es ist nicht nötig, die eingetragene Partnerschaft vorher aufzulösen (siehe Bericht RK-N, Abschnitt 5.3.3 und 7.1, Erklärungen zu Artikel 96 im Zivilgesetzbuch).   \n",
       "\n",
       "                                                                                                                                                                                                                                                                                                                                                                                                                                                                        run_simplify_es_gpt-3.5-turbo_rules.short_instructions  \n",
       "0                                                                                                                                                                                                                                       In der Vernehmlassung werden wichtige Bundesvorhaben von verschiedenen Gruppen überprüft. Dazu gehören Kantone, Parteien, Gemeindeverbände und Wirtschaftsverbände. Man prüft, ob die Vorhaben politisch, finanziell, wirtschaftlich, ökologisch, sozial oder kulturell sinnvoll sind.  \n",
       "1  Das Gesetz macht es möglich, dass Personen, die im Ausland eine eingetragene Partnerschaft eingegangen sind, heiraten dürfen, ohne zuerst ihre Partnerschaft auflösen zu müssen. Vorher war es so, dass eine bestehende Partnerschaft eine Ehe verhinderte. Dies gilt jedoch nur, wenn die Partnerschaft nicht für ungültig erklärt oder aufgelöst wurde. Ab dem 30. Juni 2022 ist dies möglich, wenn die gesetzlichen Anforderungen erfüllt sind. (siehe Bericht RK-N, Ziff. 5.3.3 und 7.1, Erklärungen zu Art. 96 E-ZGB).  "
      ]
     },
     "execution_count": 8,
     "metadata": {},
     "output_type": "execute_result"
    }
   ],
   "source": [
    "compare_simplified([result_gpt4o,result_gpt35turbo,result_gpt35turbo_2])\n"
   ]
  },
  {
   "cell_type": "markdown",
   "metadata": {},
   "source": [
    "## Evaluate and Results in Detail"
   ]
  },
  {
   "cell_type": "markdown",
   "metadata": {},
   "source": [
    "#### Step 1: Run evaluation flows against the runs\n",
    "This uses the ouputs from the previous runs, as well as original data.  "
   ]
  },
  {
   "cell_type": "code",
   "execution_count": 9,
   "metadata": {},
   "outputs": [
    {
     "name": "stderr",
     "output_type": "stream",
     "text": [
      "[2024-07-07 21:42:12 +0000][promptflow._sdk._orchestrator.run_submitter][INFO] - Submitting run eval_run_simplify_es_gpt-4o_default, log path: /root/.promptflow/.runs/eval_run_simplify_es_gpt-4o_default/logs.txt\n"
     ]
    },
    {
     "name": "stdout",
     "output_type": "stream",
     "text": [
      "Prompt flow service has started...\n",
      "You can view the traces in local from http://127.0.0.1:23333/v1.0/ui/traces/?#run=eval_run_simplify_es_gpt-4o_default\n",
      "You can view the trace detail from the following URL:\n",
      "http://127.0.0.1:23333/v1.0/ui/traces/?#collection=flow-simplify-es&uiTraceId=0x53f7330ab73e16553380094f53f3fab0\n",
      "You can view the trace detail from the following URL:\n",
      "http://127.0.0.1:23333/v1.0/ui/traces/?#collection=flow-simplify-es&uiTraceId=0x86a193f1c0a018576a5baf6af49cad27\n",
      "2024-07-07 21:42:17 +0000     871 execution.bulk     INFO     Current thread is not main thread, skip signal handler registration in BatchEngine.\n",
      "2024-07-07 21:42:17 +0000     871 execution.bulk     INFO     Set process count to 2 by taking the minimum value among the factors of {'default_worker_count': 4, 'row_count': 2}.\n",
      "2024-07-07 21:42:22 +0000     871 execution.bulk     INFO     Process name(ForkProcess-8:1)-Process id(1561)-Line number(0) start execution.\n",
      "2024-07-07 21:42:22 +0000     871 execution.bulk     INFO     Process name(ForkProcess-8:2)-Process id(1572)-Line number(1) start execution.\n",
      "2024-07-07 21:42:25 +0000     871 execution.bulk     INFO     Process name(ForkProcess-8:2)-Process id(1572)-Line number(1) completed.\n",
      "2024-07-07 21:42:25 +0000     871 execution.bulk     INFO     Process name(ForkProcess-8:1)-Process id(1561)-Line number(0) completed.\n",
      "2024-07-07 21:42:25 +0000     871 execution.bulk     INFO     Finished 2 / 2 lines.\n",
      "2024-07-07 21:42:25 +0000     871 execution.bulk     INFO     Average execution time for completed lines: 4.0 seconds. Estimated time for incomplete lines: 0.0 seconds.\n",
      "2024-07-07 21:42:25 +0000     871 execution.bulk     INFO     The thread monitoring the process [1572-ForkProcess-8:2] will be terminated.\n",
      "2024-07-07 21:42:25 +0000     871 execution.bulk     INFO     The thread monitoring the process [1561-ForkProcess-8:1] will be terminated.\n",
      "2024-07-07 21:42:26 +0000     871 execution.bulk     INFO     Executing aggregation node...\n",
      "2024-07-07 21:42:26 +0000     871 execution.bulk     INFO     Finish executing aggregation node.\n",
      "======= Run Summary =======\n",
      "\n",
      "Run name: \"eval_run_simplify_es_gpt-4o_default\"\n",
      "Run status: \"Completed\"\n",
      "Start time: \"2024-07-07 21:42:12.406969+00:00\"\n",
      "Duration: \"0:00:14.575016\"\n",
      "Output path: \"/root/.promptflow/.runs/eval_run_simplify_es_gpt-4o_default\"\n",
      "\n"
     ]
    },
    {
     "name": "stderr",
     "output_type": "stream",
     "text": [
      "[2024-07-07 21:42:28 +0000][promptflow._sdk._orchestrator.run_submitter][INFO] - Submitting run eval_run_simplify_es_gpt-3.5-turbo_default, log path: /root/.promptflow/.runs/eval_run_simplify_es_gpt-3.5-turbo_default/logs.txt\n"
     ]
    },
    {
     "name": "stdout",
     "output_type": "stream",
     "text": [
      "You can view the trace detail from the following URL:\n",
      "http://127.0.0.1:23333/v1.0/ui/traces/?#collection=flow-simplify-es&uiTraceId=0xe6f3659e228516773d8185d83ad5cdbc\n",
      "You can view the trace detail from the following URL:\n",
      "http://127.0.0.1:23333/v1.0/ui/traces/?#collection=flow-simplify-es&uiTraceId=0x42121d8d374c254487f2b6b428b2d0a8\n",
      "You can view the trace detail from the following URL:\n",
      "http://127.0.0.1:23333/v1.0/ui/traces/?#collection=flow-simplify-es&uiTraceId=0xfec57b501945422d4779917596f8afd2\n"
     ]
    },
    {
     "name": "stdout",
     "output_type": "stream",
     "text": [
      "Prompt flow service has started...\n",
      "You can view the traces in local from http://127.0.0.1:23333/v1.0/ui/traces/?#run=eval_run_simplify_es_gpt-3.5-turbo_default\n",
      "You can view the trace detail from the following URL:\n",
      "http://127.0.0.1:23333/v1.0/ui/traces/?#collection=flow-simplify-es&uiTraceId=0x644f9107bb032af6e0a21522d081be2c\n",
      "You can view the trace detail from the following URL:\n",
      "http://127.0.0.1:23333/v1.0/ui/traces/?#collection=flow-simplify-es&uiTraceId=0x936c8098a8a2f3b6beb29210511ae91d\n",
      "2024-07-07 21:42:32 +0000     871 execution.bulk     INFO     Current thread is not main thread, skip signal handler registration in BatchEngine.\n",
      "2024-07-07 21:42:32 +0000     871 execution.bulk     INFO     Set process count to 2 by taking the minimum value among the factors of {'default_worker_count': 4, 'row_count': 2}.\n",
      "2024-07-07 21:42:37 +0000     871 execution.bulk     INFO     Process name(ForkProcess-10:2)-Process id(1745)-Line number(1) start execution.\n",
      "2024-07-07 21:42:37 +0000     871 execution.bulk     INFO     Process name(ForkProcess-10:1)-Process id(1734)-Line number(0) start execution.\n",
      "2024-07-07 21:42:38 +0000     871 execution.bulk     INFO     Process name(ForkProcess-10:1)-Process id(1734)-Line number(0) completed.\n",
      "2024-07-07 21:42:38 +0000     871 execution.bulk     INFO     Process name(ForkProcess-10:2)-Process id(1745)-Line number(1) completed.\n",
      "2024-07-07 21:42:38 +0000     871 execution.bulk     INFO     Finished 2 / 2 lines.\n",
      "2024-07-07 21:42:38 +0000     871 execution.bulk     INFO     Average execution time for completed lines: 3.0 seconds. Estimated time for incomplete lines: 0.0 seconds.\n",
      "2024-07-07 21:42:38 +0000     871 execution.bulk     INFO     The thread monitoring the process [1734-ForkProcess-10:1] will be terminated.\n",
      "2024-07-07 21:42:38 +0000     871 execution.bulk     INFO     The thread monitoring the process [1745-ForkProcess-10:2] will be terminated.\n",
      "2024-07-07 21:42:40 +0000     871 execution.bulk     INFO     Executing aggregation node...\n",
      "2024-07-07 21:42:40 +0000     871 execution.bulk     INFO     Finish executing aggregation node.\n",
      "======= Run Summary =======\n",
      "\n",
      "Run name: \"eval_run_simplify_es_gpt-3.5-turbo_default\"\n",
      "Run status: \"Completed\"\n",
      "Start time: \"2024-07-07 21:42:27.953456+00:00\"\n",
      "Duration: \"0:00:12.505241\"\n",
      "Output path: \"/root/.promptflow/.runs/eval_run_simplify_es_gpt-3.5-turbo_default\"\n",
      "\n"
     ]
    },
    {
     "name": "stderr",
     "output_type": "stream",
     "text": [
      "[2024-07-07 21:42:41 +0000][promptflow._sdk._orchestrator.run_submitter][INFO] - Submitting run eval_run_simplify_es_gpt-3.5-turbo_rules.short_instructions, log path: /root/.promptflow/.runs/eval_run_simplify_es_gpt-3.5-turbo_rules.short_instructions/logs.txt\n"
     ]
    },
    {
     "name": "stdout",
     "output_type": "stream",
     "text": [
      "Prompt flow service has started...\n",
      "You can view the traces in local from http://127.0.0.1:23333/v1.0/ui/traces/?#run=eval_run_simplify_es_gpt-3.5-turbo_rules.short_instructions\n",
      "You can view the trace detail from the following URL:\n",
      "http://127.0.0.1:23333/v1.0/ui/traces/?#collection=flow-simplify-es&uiTraceId=0xfc5e1d24b03d4dc85a294c253352e6ae\n",
      "You can view the trace detail from the following URL:\n",
      "http://127.0.0.1:23333/v1.0/ui/traces/?#collection=flow-simplify-es&uiTraceId=0x8e7b73f688842cd62634a6a64b62a452\n",
      "2024-07-07 21:42:44 +0000     871 execution.bulk     INFO     Current thread is not main thread, skip signal handler registration in BatchEngine.\n",
      "2024-07-07 21:42:44 +0000     871 execution.bulk     INFO     Set process count to 2 by taking the minimum value among the factors of {'default_worker_count': 4, 'row_count': 2}.\n",
      "2024-07-07 21:42:50 +0000     871 execution.bulk     INFO     Process name(ForkProcess-12:1)-Process id(1899)-Line number(1) start execution.\n",
      "2024-07-07 21:42:50 +0000     871 execution.bulk     INFO     Process name(ForkProcess-12:2)-Process id(1910)-Line number(0) start execution.\n",
      "2024-07-07 21:42:51 +0000     871 execution.bulk     INFO     Process name(ForkProcess-12:2)-Process id(1910)-Line number(0) completed.\n",
      "2024-07-07 21:42:51 +0000     871 execution.bulk     INFO     Process name(ForkProcess-12:1)-Process id(1899)-Line number(1) completed.\n",
      "2024-07-07 21:42:51 +0000     871 execution.bulk     INFO     Finished 2 / 2 lines.\n",
      "2024-07-07 21:42:51 +0000     871 execution.bulk     INFO     Average execution time for completed lines: 3.51 seconds. Estimated time for incomplete lines: 0.0 seconds.\n",
      "2024-07-07 21:42:51 +0000     871 execution.bulk     INFO     The thread monitoring the process [1910-ForkProcess-12:2] will be terminated.\n",
      "2024-07-07 21:42:51 +0000     871 execution.bulk     INFO     The thread monitoring the process [1899-ForkProcess-12:1] will be terminated.\n",
      "2024-07-07 21:42:52 +0000     871 execution.bulk     INFO     Executing aggregation node...\n",
      "2024-07-07 21:42:52 +0000     871 execution.bulk     INFO     Finish executing aggregation node.\n",
      "======= Run Summary =======\n",
      "\n",
      "Run name: \"eval_run_simplify_es_gpt-3.5-turbo_rules.short_instructions\"\n",
      "Run status: \"Completed\"\n",
      "Start time: \"2024-07-07 21:42:40.996652+00:00\"\n",
      "Duration: \"0:00:11.957911\"\n",
      "Output path: \"/root/.promptflow/.runs/eval_run_simplify_es_gpt-3.5-turbo_rules.short_instructions\"\n",
      "\n"
     ]
    }
   ],
   "source": [
    "\n",
    "eval_gpt4o = execute_eval_run(pf, gpt4o_config, result_gpt4o)\n",
    "eval_gpt35turbo = execute_eval_run(pf, gpt35turbo_config, result_gpt35turbo)\n",
    "eval_gpt35turbo_2 = execute_eval_run(pf, gpt35turbo_config_2, result_gpt35turbo_2)\n",
    "\n"
   ]
  },
  {
   "cell_type": "code",
   "execution_count": 10,
   "metadata": {},
   "outputs": [
    {
     "data": {
      "text/html": [
       "<div>\n",
       "<style scoped>\n",
       "    .dataframe tbody tr th:only-of-type {\n",
       "        vertical-align: middle;\n",
       "    }\n",
       "\n",
       "    .dataframe tbody tr th {\n",
       "        vertical-align: top;\n",
       "    }\n",
       "\n",
       "    .dataframe thead th {\n",
       "        text-align: right;\n",
       "    }\n",
       "</style>\n",
       "<table border=\"1\" class=\"dataframe\">\n",
       "  <thead>\n",
       "    <tr style=\"text-align: right;\">\n",
       "      <th></th>\n",
       "      <th>inputs.model</th>\n",
       "      <th>inputs.original_text</th>\n",
       "      <th>inputs.simplified_text</th>\n",
       "      <th>outputs.zix_score_original</th>\n",
       "      <th>outputs.zix_score_simplified</th>\n",
       "      <th>outputs.level_original</th>\n",
       "      <th>outputs.level_simplified</th>\n",
       "    </tr>\n",
       "  </thead>\n",
       "  <tbody>\n",
       "    <tr>\n",
       "      <th>0</th>\n",
       "      <td>gpt-4o</td>\n",
       "      <td>Als Vernehmlassungsverfahren wird diejenige Phase innerhalb des Vorverfahrens der Gesetzgebung bezeichnet, in der Vorhaben des Bundes von erheblicher politischer, finanzieller, wirtschaftlicher, ökologischer, sozialer oder kultureller Tragweite auf ihre sachliche Richtigkeit, Vollzugstauglichkeit und Akzeptanz hin geprüft werden.   Die Vorlage wird zu diesem Zweck den Kantonen, den in der Bundesversammlung vertretenen Parteien, den Dachverbänden der Gemeinden, Städte und der Berggebiete, den Dachverbänden der Wirtschaft sowie weiteren, im Einzelfall interessierten Kreisen unterbreitet.</td>\n",
       "      <td>Das Vernehmlassungsverfahren ist eine wichtige Phase bei der Gesetzgebung. In dieser Phase prüft der Bund seine Pläne. Diese Pläne betreffen Politik, Finanzen, Wirtschaft, Umwelt, Soziales oder Kultur. Der Bund will wissen, ob die Pläne richtig sind. Er fragt auch, ob die Pläne durchführbar sind und ob die Menschen sie gut finden. \\n\\nDazu teilt der Bund die Pläne den Kantonen mit. Kantone sind die grossen Regionen der Schweiz. Der Bund teilt die Pläne auch den Parteien im Parlament mit. Auch die Dachverbände der Gemeinden, Städte und Berggebiete erhalten die Pläne. Die Dachverbände der Wirtschaft bekommen die Pläne ebenfalls. Manchmal interessieren sich noch andere Gruppen für die Pläne. Auch diese anderen Gruppen bekommen dann die Pläne.</td>\n",
       "      <td>2.620196</td>\n",
       "      <td>17.354185</td>\n",
       "      <td>C2</td>\n",
       "      <td>B1</td>\n",
       "    </tr>\n",
       "    <tr>\n",
       "      <th>1</th>\n",
       "      <td>gpt-4o</td>\n",
       "      <td>Das in Artikel 26 aPartG vorgesehene Ehehindernis der eingetragenen Partnerschaft wurde aufgehoben und in Artikel 96 nZGB eingearbeitet. Es ist zu präzisieren, dass das Ehehindernis nur dann besteht, wenn eine frühere Ehe oder eine mit einer Drittperson begründete eingetragene Partnerschaft noch besteht bzw. nicht für ungültig erklärt oder aufgelöst worden ist. Folglich können zwei Personen, die nach Inkrafttreten der ZGB-Revision, d.h. nach dem 30. Juni 2022, im Ausland miteinander eine eingetragene Partnerschaft begründet haben, einander heiraten, sofern die allgemeinen Voraussetzungen von Artikel 43 f. IPRG und des materiellen Schweizer Eherechts erfüllt sind, ohne vorgängig ihre eingetragene Partnerschaft auflösen zu müssen (Bericht RK-N, Ziff. 5.3.3 und 7.1, Ausführungen zu Art. 96 E-ZGB).</td>\n",
       "      <td>Das Gesetz wurde geändert. Früher gab es ein Eheverbot für Personen in einer eingetragenen Partnerschaft. Dieses Verbot steht jetzt in Artikel 96 im Zivilgesetzbuch.\\n\\nDas Gesetz sagt jetzt: Eine Person darf nur heiraten, wenn keine frühere Ehe oder Partnerschaft besteht. Eine alte Ehe oder Partnerschaft muss entweder aufgehoben oder für ungültig erklärt sein.\\n\\nSeit dem 30. Juni 2022 ist etwas Neues dazugekommen. Personen, die im Ausland eine eingetragene Partnerschaft geschlossen haben, dürfen trotzdem heiraten. Dafür müssen sie die Regeln in den Artikeln 43 und 96 im Zivilgesetzbuch beachten.\\n\\nDie Partner müssen die Schweizer Ehe-Regeln beachten. Die Partnerschaft muss nicht vorher aufgelöst werden.\\n\\nDiese Änderungen stehen in einem Bericht des Nationalrats.</td>\n",
       "      <td>5.120617</td>\n",
       "      <td>16.795429</td>\n",
       "      <td>C2</td>\n",
       "      <td>B1</td>\n",
       "    </tr>\n",
       "  </tbody>\n",
       "</table>\n",
       "</div>"
      ],
      "text/plain": [
       "  inputs.model  \\\n",
       "0       gpt-4o   \n",
       "1       gpt-4o   \n",
       "\n",
       "                                                                                                                                                                                                                                                                                                                                                                                                                                                                                                                                                                                                                                                                                                                                                                                                                    inputs.original_text  \\\n",
       "0                                                                                                                                                                                                                       Als Vernehmlassungsverfahren wird diejenige Phase innerhalb des Vorverfahrens der Gesetzgebung bezeichnet, in der Vorhaben des Bundes von erheblicher politischer, finanzieller, wirtschaftlicher, ökologischer, sozialer oder kultureller Tragweite auf ihre sachliche Richtigkeit, Vollzugstauglichkeit und Akzeptanz hin geprüft werden.   Die Vorlage wird zu diesem Zweck den Kantonen, den in der Bundesversammlung vertretenen Parteien, den Dachverbänden der Gemeinden, Städte und der Berggebiete, den Dachverbänden der Wirtschaft sowie weiteren, im Einzelfall interessierten Kreisen unterbreitet.   \n",
       "1  Das in Artikel 26 aPartG vorgesehene Ehehindernis der eingetragenen Partnerschaft wurde aufgehoben und in Artikel 96 nZGB eingearbeitet. Es ist zu präzisieren, dass das Ehehindernis nur dann besteht, wenn eine frühere Ehe oder eine mit einer Drittperson begründete eingetragene Partnerschaft noch besteht bzw. nicht für ungültig erklärt oder aufgelöst worden ist. Folglich können zwei Personen, die nach Inkrafttreten der ZGB-Revision, d.h. nach dem 30. Juni 2022, im Ausland miteinander eine eingetragene Partnerschaft begründet haben, einander heiraten, sofern die allgemeinen Voraussetzungen von Artikel 43 f. IPRG und des materiellen Schweizer Eherechts erfüllt sind, ohne vorgängig ihre eingetragene Partnerschaft auflösen zu müssen (Bericht RK-N, Ziff. 5.3.3 und 7.1, Ausführungen zu Art. 96 E-ZGB).   \n",
       "\n",
       "                                                                                                                                                                                                                                                                                                                                                                                                                                                                                                                                                                                                                                                                                                                                                                                      inputs.simplified_text  \\\n",
       "0                              Das Vernehmlassungsverfahren ist eine wichtige Phase bei der Gesetzgebung. In dieser Phase prüft der Bund seine Pläne. Diese Pläne betreffen Politik, Finanzen, Wirtschaft, Umwelt, Soziales oder Kultur. Der Bund will wissen, ob die Pläne richtig sind. Er fragt auch, ob die Pläne durchführbar sind und ob die Menschen sie gut finden. \\n\\nDazu teilt der Bund die Pläne den Kantonen mit. Kantone sind die grossen Regionen der Schweiz. Der Bund teilt die Pläne auch den Parteien im Parlament mit. Auch die Dachverbände der Gemeinden, Städte und Berggebiete erhalten die Pläne. Die Dachverbände der Wirtschaft bekommen die Pläne ebenfalls. Manchmal interessieren sich noch andere Gruppen für die Pläne. Auch diese anderen Gruppen bekommen dann die Pläne.   \n",
       "1  Das Gesetz wurde geändert. Früher gab es ein Eheverbot für Personen in einer eingetragenen Partnerschaft. Dieses Verbot steht jetzt in Artikel 96 im Zivilgesetzbuch.\\n\\nDas Gesetz sagt jetzt: Eine Person darf nur heiraten, wenn keine frühere Ehe oder Partnerschaft besteht. Eine alte Ehe oder Partnerschaft muss entweder aufgehoben oder für ungültig erklärt sein.\\n\\nSeit dem 30. Juni 2022 ist etwas Neues dazugekommen. Personen, die im Ausland eine eingetragene Partnerschaft geschlossen haben, dürfen trotzdem heiraten. Dafür müssen sie die Regeln in den Artikeln 43 und 96 im Zivilgesetzbuch beachten.\\n\\nDie Partner müssen die Schweizer Ehe-Regeln beachten. Die Partnerschaft muss nicht vorher aufgelöst werden.\\n\\nDiese Änderungen stehen in einem Bericht des Nationalrats.   \n",
       "\n",
       "   outputs.zix_score_original  outputs.zix_score_simplified  \\\n",
       "0                    2.620196                     17.354185   \n",
       "1                    5.120617                     16.795429   \n",
       "\n",
       "  outputs.level_original outputs.level_simplified  \n",
       "0                     C2                       B1  \n",
       "1                     C2                       B1  "
      ]
     },
     "metadata": {},
     "output_type": "display_data"
    }
   ],
   "source": [
    "display(eval_gpt4o[\"details\"][[\"inputs.model\", \"inputs.original_text\", \"inputs.simplified_text\", \"outputs.zix_score_original\", \"outputs.zix_score_simplified\", \"outputs.level_original\", \"outputs.level_simplified\"]])"
   ]
  },
  {
   "cell_type": "code",
   "execution_count": null,
   "metadata": {},
   "outputs": [],
   "source": []
  }
 ],
 "metadata": {
  "kernelspec": {
   "display_name": "Python 3",
   "language": "python",
   "name": "python3"
  },
  "language_info": {
   "codemirror_mode": {
    "name": "ipython",
    "version": 3
   },
   "file_extension": ".py",
   "mimetype": "text/x-python",
   "name": "python",
   "nbconvert_exporter": "python",
   "pygments_lexer": "ipython3",
   "version": "3.9.19"
  }
 },
 "nbformat": 4,
 "nbformat_minor": 2
}
